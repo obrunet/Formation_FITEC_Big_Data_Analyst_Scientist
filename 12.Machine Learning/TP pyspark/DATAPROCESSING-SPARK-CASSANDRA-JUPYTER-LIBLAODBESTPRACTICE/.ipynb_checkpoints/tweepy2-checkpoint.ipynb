{
 "cells": [
  {
   "cell_type": "code",
   "execution_count": 1,
   "metadata": {},
   "outputs": [
    {
     "ename": "ImportError",
     "evalue": "No module named tweepy",
     "output_type": "error",
     "traceback": [
      "\u001b[0;31m---------------------------------------------------------------------------\u001b[0m",
      "\u001b[0;31mImportError\u001b[0m                               Traceback (most recent call last)",
      "\u001b[0;32m<ipython-input-1-ab408f24a273>\u001b[0m in \u001b[0;36m<module>\u001b[0;34m()\u001b[0m\n\u001b[0;32m----> 1\u001b[0;31m \u001b[0;32mimport\u001b[0m \u001b[0mtweepy\u001b[0m\u001b[0;34m\u001b[0m\u001b[0m\n\u001b[0m\u001b[1;32m      2\u001b[0m \u001b[0;32mfrom\u001b[0m \u001b[0mtweepy\u001b[0m \u001b[0;32mimport\u001b[0m \u001b[0mOAuthHandler\u001b[0m\u001b[0;34m\u001b[0m\u001b[0m\n\u001b[1;32m      3\u001b[0m \u001b[0;32mfrom\u001b[0m \u001b[0mtweepy\u001b[0m \u001b[0;32mimport\u001b[0m \u001b[0mStream\u001b[0m\u001b[0;34m\u001b[0m\u001b[0m\n\u001b[1;32m      4\u001b[0m \u001b[0;32mfrom\u001b[0m \u001b[0mtweepy\u001b[0m\u001b[0;34m.\u001b[0m\u001b[0mstreaming\u001b[0m \u001b[0;32mimport\u001b[0m \u001b[0mStreamListener\u001b[0m\u001b[0;34m\u001b[0m\u001b[0m\n\u001b[1;32m      5\u001b[0m \u001b[0;32mimport\u001b[0m \u001b[0msocket\u001b[0m\u001b[0;34m\u001b[0m\u001b[0m\n",
      "\u001b[0;31mImportError\u001b[0m: No module named tweepy"
     ]
    }
   ],
   "source": [
    "import tweepy\n",
    "from tweepy import OAuthHandler\n",
    "from tweepy import Stream\n",
    "from tweepy.streaming import StreamListener\n",
    "import socket\n",
    "import json\n",
    "\n",
    "consumer_key = 'TYOKMcSWhDmxpk4vxcGae9W2t'\n",
    "consumer_secret = 'DKzsSinpzWR1sXvQOqCX7prdA3jX3eBMISTzgRY8SyqIuVYB8P'\n",
    "access_token = '1038044048672665601-8QkF9Xf1UyNHWR1UTplyqAwZsiKsnL'\n",
    "access_secret = 'Z3MjfHntljIeIy0CtLXSU3YK0ByL9DThibwusegQomTtZ'\n",
    "\n",
    "class TweetsListener(StreamListener):\n",
    "\n",
    "  def __init__(self, csocket):\n",
    "      self.client_socket = csocket\n",
    "\n",
    "  def on_data(self, data):\n",
    "      try:\n",
    "          msg = json.loads( data )\n",
    "          line= str(msg['id'])+'||'+str(msg['user']['id'])+'|'+msg['user']['name'].encode('utf-8')+'|'+str(msg['user']['followers_count']) \n",
    "          print(line)\n",
    "          self.client_socket.send(line)\n",
    "          return True\n",
    "      except BaseException as e:\n",
    "          print(\"Error on_data: %s\" % str(e))\n",
    "      return True\n",
    "\n",
    "  def on_error(self, status):\n",
    "      print(status)\n",
    "      return True\n",
    "\n",
    "def sendData(c_socket):\n",
    "  auth = OAuthHandler(consumer_key, consumer_secret)\n",
    "  auth.set_access_token(access_token, access_secret)\n",
    "\n",
    "  twitter_stream = Stream(auth, TweetsListener(c_socket))\n",
    "  twitter_stream.filter(track=['trump'])\n",
    "\n",
    "if __name__ == \"__main__\":\n",
    "  s = socket.socket()         # Create a socket object\n",
    "  host = \"localhost\"      # Get local machine name\n",
    "  port = 5555                 # Reserve a port for your service.\n",
    "  s.bind((host, port))        # Bind to the port\n",
    "\n",
    "  print(\"Listening on port: %s\" % str(port))\n",
    "\n",
    "  s.listen(5)                 # Now wait for client connection.\n",
    "  c, addr = s.accept()        # Establish connection with client.\n",
    "\n",
    "  print( \"Received request from: \" + str( addr ) )\n",
    "\n",
    "  sendData( c )"
   ]
  }
 ],
 "metadata": {
  "kernelspec": {
   "display_name": "Python 2",
   "language": "python",
   "name": "python2"
  },
  "language_info": {
   "codemirror_mode": {
    "name": "ipython",
    "version": 2
   },
   "file_extension": ".py",
   "mimetype": "text/x-python",
   "name": "python",
   "nbconvert_exporter": "python",
   "pygments_lexer": "ipython2",
   "version": "2.7.10"
  }
 },
 "nbformat": 4,
 "nbformat_minor": 2
}
