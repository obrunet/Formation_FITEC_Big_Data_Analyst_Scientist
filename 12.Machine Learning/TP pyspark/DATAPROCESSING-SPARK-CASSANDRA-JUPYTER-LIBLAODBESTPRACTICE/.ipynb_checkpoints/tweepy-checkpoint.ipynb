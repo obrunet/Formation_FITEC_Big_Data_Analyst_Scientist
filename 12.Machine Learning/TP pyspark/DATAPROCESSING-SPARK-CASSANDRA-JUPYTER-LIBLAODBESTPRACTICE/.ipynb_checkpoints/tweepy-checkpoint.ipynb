{
 "cells": [
  {
   "cell_type": "code",
   "execution_count": 1,
   "metadata": {},
   "outputs": [
    {
     "ename": "error",
     "evalue": "[Errno 98] Address already in use",
     "output_type": "error",
     "traceback": [
      "\u001b[0;31m---------------------------------------------------------------------------\u001b[0m",
      "\u001b[0;31merror\u001b[0m                                     Traceback (most recent call last)",
      "\u001b[0;32m<ipython-input-1-3caa9a0487f4>\u001b[0m in \u001b[0;36m<module>\u001b[0;34m()\u001b[0m\n\u001b[1;32m     41\u001b[0m   \u001b[0mhost\u001b[0m \u001b[0;34m=\u001b[0m \u001b[0;34m\"localhost\"\u001b[0m      \u001b[0;31m# Get local machine name\u001b[0m\u001b[0;34m\u001b[0m\u001b[0m\n\u001b[1;32m     42\u001b[0m   \u001b[0mport\u001b[0m \u001b[0;34m=\u001b[0m \u001b[0;36m5555\u001b[0m                 \u001b[0;31m# Reserve a port for your service.\u001b[0m\u001b[0;34m\u001b[0m\u001b[0m\n\u001b[0;32m---> 43\u001b[0;31m   \u001b[0ms\u001b[0m\u001b[0;34m.\u001b[0m\u001b[0mbind\u001b[0m\u001b[0;34m(\u001b[0m\u001b[0;34m(\u001b[0m\u001b[0mhost\u001b[0m\u001b[0;34m,\u001b[0m \u001b[0mport\u001b[0m\u001b[0;34m)\u001b[0m\u001b[0;34m)\u001b[0m        \u001b[0;31m# Bind to the port\u001b[0m\u001b[0;34m\u001b[0m\u001b[0m\n\u001b[0m\u001b[1;32m     44\u001b[0m \u001b[0;34m\u001b[0m\u001b[0m\n\u001b[1;32m     45\u001b[0m   \u001b[0;32mprint\u001b[0m\u001b[0;34m(\u001b[0m\u001b[0;34m\"Listening on port: %s\"\u001b[0m \u001b[0;34m%\u001b[0m \u001b[0mstr\u001b[0m\u001b[0;34m(\u001b[0m\u001b[0mport\u001b[0m\u001b[0;34m)\u001b[0m\u001b[0;34m)\u001b[0m\u001b[0;34m\u001b[0m\u001b[0m\n",
      "\u001b[0;32m/home/guest/anaconda2/lib/python2.7/socket.pyc\u001b[0m in \u001b[0;36mmeth\u001b[0;34m(name, self, *args)\u001b[0m\n\u001b[1;32m    226\u001b[0m \u001b[0;34m\u001b[0m\u001b[0m\n\u001b[1;32m    227\u001b[0m \u001b[0;32mdef\u001b[0m \u001b[0mmeth\u001b[0m\u001b[0;34m(\u001b[0m\u001b[0mname\u001b[0m\u001b[0;34m,\u001b[0m\u001b[0mself\u001b[0m\u001b[0;34m,\u001b[0m\u001b[0;34m*\u001b[0m\u001b[0margs\u001b[0m\u001b[0;34m)\u001b[0m\u001b[0;34m:\u001b[0m\u001b[0;34m\u001b[0m\u001b[0m\n\u001b[0;32m--> 228\u001b[0;31m     \u001b[0;32mreturn\u001b[0m \u001b[0mgetattr\u001b[0m\u001b[0;34m(\u001b[0m\u001b[0mself\u001b[0m\u001b[0;34m.\u001b[0m\u001b[0m_sock\u001b[0m\u001b[0;34m,\u001b[0m\u001b[0mname\u001b[0m\u001b[0;34m)\u001b[0m\u001b[0;34m(\u001b[0m\u001b[0;34m*\u001b[0m\u001b[0margs\u001b[0m\u001b[0;34m)\u001b[0m\u001b[0;34m\u001b[0m\u001b[0m\n\u001b[0m\u001b[1;32m    229\u001b[0m \u001b[0;34m\u001b[0m\u001b[0m\n\u001b[1;32m    230\u001b[0m \u001b[0;32mfor\u001b[0m \u001b[0m_m\u001b[0m \u001b[0;32min\u001b[0m \u001b[0m_socketmethods\u001b[0m\u001b[0;34m:\u001b[0m\u001b[0;34m\u001b[0m\u001b[0m\n",
      "\u001b[0;31merror\u001b[0m: [Errno 98] Address already in use"
     ]
    }
   ],
   "source": [
    "import tweepy\n",
    "from tweepy import OAuthHandler\n",
    "from tweepy import Stream\n",
    "from tweepy.streaming import StreamListener\n",
    "import socket\n",
    "import json\n",
    "\n",
    "consumer_key = 'TYOKMcSWhDmxpk4vxcGae9W2t'\n",
    "consumer_secret = 'DKzsSinpzWR1sXvQOqCX7prdA3jX3eBMISTzgRY8SyqIuVYB8P'\n",
    "access_token = '1038044048672665601-8QkF9Xf1UyNHWR1UTplyqAwZsiKsnL'\n",
    "access_secret = 'Z3MjfHntljIeIy0CtLXSU3YK0ByL9DThibwusegQomTtZ'\n",
    "\n",
    "class TweetsListener(StreamListener):\n",
    "\n",
    "  def __init__(self, csocket):\n",
    "      self.client_socket = csocket\n",
    "\n",
    "  def on_data(self, data):\n",
    "      try:\n",
    "          msg = json.loads( data )\n",
    "          print( msg['text'].encode('utf-8') )\n",
    "          self.client_socket.send( msg['text'].encode('utf-8') )\n",
    "          return True\n",
    "      except BaseException as e:\n",
    "          print(\"Error on_data: %s\" % str(e))\n",
    "      return True\n",
    "\n",
    "  def on_error(self, status):\n",
    "      print(status)\n",
    "      return True\n",
    "\n",
    "def sendData(c_socket):\n",
    "  auth = OAuthHandler(consumer_key, consumer_secret)\n",
    "  auth.set_access_token(access_token, access_secret)\n",
    "\n",
    "  twitter_stream = Stream(auth, TweetsListener(c_socket))\n",
    "  twitter_stream.filter(track=['trump'])\n",
    "\n",
    "if __name__ == \"__main__\":\n",
    "  s = socket.socket()         # Create a socket object\n",
    "  host = \"localhost\"      # Get local machine name\n",
    "  port = 55                 # Reserve a port for your service.\n",
    "  s.bind((host, port))        # Bind to the port\n",
    "\n",
    "  print(\"Listening on port: %s\" % str(port))\n",
    "\n",
    "  s.listen(5)                 # Now wait for client connection.\n",
    "  c, addr = s.accept()        # Establish connection with client.\n",
    "\n",
    "  print( \"Received request from: \" + str( addr ) )\n",
    "\n",
    "  sendData( c )"
   ]
  }
 ],
 "metadata": {
  "kernelspec": {
   "display_name": "Python 2",
   "language": "python",
   "name": "python2"
  },
  "language_info": {
   "codemirror_mode": {
    "name": "ipython",
    "version": 2
   },
   "file_extension": ".py",
   "mimetype": "text/x-python",
   "name": "python",
   "nbconvert_exporter": "python",
   "pygments_lexer": "ipython2",
   "version": "2.7.10"
  }
 },
 "nbformat": 4,
 "nbformat_minor": 2
}
