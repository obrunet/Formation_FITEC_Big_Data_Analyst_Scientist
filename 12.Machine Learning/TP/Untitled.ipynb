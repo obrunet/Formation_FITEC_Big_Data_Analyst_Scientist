{
 "cells": [
  {
   "cell_type": "code",
   "execution_count": 1,
   "metadata": {},
   "outputs": [
    {
     "ename": "ImportError",
     "evalue": "No module named pyspark_knn.ml.classification",
     "output_type": "error",
     "traceback": [
      "\u001b[0;31m---------------------------------------------------------------------------\u001b[0m",
      "\u001b[0;31mImportError\u001b[0m                               Traceback (most recent call last)",
      "\u001b[0;32m<ipython-input-1-c239bf1c63b7>\u001b[0m in \u001b[0;36m<module>\u001b[0;34m()\u001b[0m\n\u001b[1;32m      3\u001b[0m \u001b[0;32mfrom\u001b[0m \u001b[0mpyspark\u001b[0m\u001b[0;34m.\u001b[0m\u001b[0mmllib\u001b[0m\u001b[0;34m.\u001b[0m\u001b[0mlinalg\u001b[0m \u001b[0;32mimport\u001b[0m \u001b[0mVectors\u001b[0m\u001b[0;34m\u001b[0m\u001b[0m\n\u001b[1;32m      4\u001b[0m \u001b[0;34m\u001b[0m\u001b[0m\n\u001b[0;32m----> 5\u001b[0;31m \u001b[0;32mfrom\u001b[0m \u001b[0mpyspark_knn\u001b[0m\u001b[0;34m.\u001b[0m\u001b[0mml\u001b[0m\u001b[0;34m.\u001b[0m\u001b[0mclassification\u001b[0m \u001b[0;32mimport\u001b[0m \u001b[0mKNNClassifier\u001b[0m\u001b[0;34m\u001b[0m\u001b[0m\n\u001b[0m\u001b[1;32m      6\u001b[0m \u001b[0;34m\u001b[0m\u001b[0m\n\u001b[1;32m      7\u001b[0m \u001b[0;34m\u001b[0m\u001b[0m\n",
      "\u001b[0;31mImportError\u001b[0m: No module named pyspark_knn.ml.classification"
     ]
    }
   ],
   "source": [
    "from pyspark import SparkContext\n",
    "from pyspark.sql import SQLContext\n",
    "from pyspark.mllib.linalg import Vectors\n",
    "\n",
    "from pyspark_knn.ml.classification import KNNClassifier\n",
    "\n",
    "\n",
    "# This is a simple test app. Use the following command to run:\n",
    "# spark-submit --driver-class-path ../spark-knn-core/target/scala-2.10/spark-knn_*.jar test.py\n",
    "\n",
    "sc = SparkContext(appName='test')\n",
    "sqlContext = SQLContext(sc)\n",
    "\n",
    "print('Initializing')\n",
    "training = sqlContext.createDataFrame([\n",
    "    [Vectors.dense([0.2, 0.9]), 0.0],\n",
    "    [Vectors.dense([0.2, 1.0]), 0.0],\n",
    "    [Vectors.dense([0.2, 0.1]), 1.0],\n",
    "    [Vectors.dense([0.2, 0.2]), 1.0],\n",
    "], ['features', 'label'])\n",
    "\n",
    "test = sqlContext.createDataFrame([\n",
    "    [Vectors.dense([0.1, 0.0])],\n",
    "    [Vectors.dense([0.3, 0.8])]\n",
    "], ['features'])\n",
    "\n",
    "knn = KNNClassifier(k=1, topTreeSize=1, topTreeLeafSize=1, subTreeLeafSize=1, bufferSizeSampleSize=[1, 2, 3])  # bufferSize=-1.0,\n",
    "print('Params:', [p.name for p in knn.params])\n",
    "print('Fitting')\n",
    "model = knn.fit(training)\n",
    "print('bufferSize:', model._java_obj.getBufferSize())\n",
    "print('Predicting')\n",
    "predictions = model.transform(test)\n",
    "print('Predictions:')\n",
    "for row in predictions.collect():\n",
    "    print(row)"
   ]
  },
  {
   "cell_type": "code",
   "execution_count": null,
   "metadata": {
    "collapsed": true
   },
   "outputs": [],
   "source": []
  },
  {
   "cell_type": "code",
   "execution_count": null,
   "metadata": {
    "collapsed": true
   },
   "outputs": [],
   "source": []
  }
 ],
 "metadata": {
  "kernelspec": {
   "display_name": "Python 2",
   "language": "python",
   "name": "python2"
  },
  "language_info": {
   "codemirror_mode": {
    "name": "ipython",
    "version": 2
   },
   "file_extension": ".py",
   "mimetype": "text/x-python",
   "name": "python",
   "nbconvert_exporter": "python",
   "pygments_lexer": "ipython2",
   "version": "2.7.10"
  }
 },
 "nbformat": 4,
 "nbformat_minor": 2
}
