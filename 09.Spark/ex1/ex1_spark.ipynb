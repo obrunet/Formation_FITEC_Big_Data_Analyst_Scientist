{
 "cells": [
  {
   "cell_type": "code",
   "execution_count": 8,
   "metadata": {},
   "outputs": [
    {
     "name": "stdout",
     "output_type": "stream",
     "text": [
      "Informations_nutritionnelles_McDo.csv\r\n"
     ]
    }
   ],
   "source": [
    "!ls ../../src"
   ]
  },
  {
   "cell_type": "code",
   "execution_count": 10,
   "metadata": {},
   "outputs": [],
   "source": [
    "from pyspark.sql import SparkSession, DataFrameReader\n",
    "\n",
    "spark = SparkSession.builder \\\n",
    "            .appName(\"first_try_with_spark\") \\\n",
    "            .getOrCreate()"
   ]
  },
  {
   "cell_type": "code",
   "execution_count": 11,
   "metadata": {},
   "outputs": [
    {
     "data": {
      "text/plain": [
       "DataFrame[Category: string, Item: string, Serving Size: string, Calories: int, Calories from Fat: int, Total Fat: double, Total Fat (% Daily Value): int, Saturated Fat: double, Saturated Fat (% Daily Value): int, Trans Fat: double, Cholesterol: int, Cholesterol (% Daily Value): int, Sodium: int, Sodium (% Daily Value): int, Carbohydrates: int, Carbohydrates (% Daily Value): int, Dietary Fiber: int, Dietary Fiber (% Daily Value): int, Sugars: int, Protein: int, Vitamin A (% Daily Value): int, Vitamin C (% Daily Value): int, Calcium (% Daily Value): int, Iron (% Daily Value): int]"
      ]
     },
     "execution_count": 11,
     "metadata": {},
     "output_type": "execute_result"
    }
   ],
   "source": [
    "df = spark.read.csv(path='../../src/Informations_nutritionnelles_McDo.csv', header=True, inferSchema=True)\n",
    "df"
   ]
  },
  {
   "cell_type": "code",
   "execution_count": 12,
   "metadata": {},
   "outputs": [
    {
     "data": {
      "text/plain": [
       "pyspark.sql.dataframe.DataFrame"
      ]
     },
     "execution_count": 12,
     "metadata": {},
     "output_type": "execute_result"
    }
   ],
   "source": [
    "type(df)"
   ]
  },
  {
   "cell_type": "code",
   "execution_count": 13,
   "metadata": {},
   "outputs": [
    {
     "name": "stdout",
     "output_type": "stream",
     "text": [
      "+---------+--------------------+--------------+--------+-----------------+---------+-------------------------+-------------+-----------------------------+---------+-----------+---------------------------+------+----------------------+-------------+-----------------------------+-------------+-----------------------------+------+-------+-------------------------+-------------------------+-----------------------+--------------------+\n",
      "| Category|                Item|  Serving Size|Calories|Calories from Fat|Total Fat|Total Fat (% Daily Value)|Saturated Fat|Saturated Fat (% Daily Value)|Trans Fat|Cholesterol|Cholesterol (% Daily Value)|Sodium|Sodium (% Daily Value)|Carbohydrates|Carbohydrates (% Daily Value)|Dietary Fiber|Dietary Fiber (% Daily Value)|Sugars|Protein|Vitamin A (% Daily Value)|Vitamin C (% Daily Value)|Calcium (% Daily Value)|Iron (% Daily Value)|\n",
      "+---------+--------------------+--------------+--------+-----------------+---------+-------------------------+-------------+-----------------------------+---------+-----------+---------------------------+------+----------------------+-------------+-----------------------------+-------------+-----------------------------+------+-------+-------------------------+-------------------------+-----------------------+--------------------+\n",
      "|Breakfast|        Egg McMuffin|4.8 oz (136 g)|     300|              120|     13.0|                       20|          5.0|                           25|      0.0|        260|                         87|   750|                    31|           31|                           10|            4|                           17|     3|     17|                       10|                        0|                     25|                  15|\n",
      "|Breakfast|   Egg White Delight|4.8 oz (135 g)|     250|               70|      8.0|                       12|          3.0|                           15|      0.0|         25|                          8|   770|                    32|           30|                           10|            4|                           17|     3|     18|                        6|                        0|                     25|                   8|\n",
      "|Breakfast|    Sausage McMuffin|3.9 oz (111 g)|     370|              200|     23.0|                       35|          8.0|                           42|      0.0|         45|                         15|   780|                    33|           29|                           10|            4|                           17|     2|     14|                        8|                        0|                     25|                  10|\n",
      "|Breakfast|Sausage McMuffin ...|5.7 oz (161 g)|     450|              250|     28.0|                       43|         10.0|                           52|      0.0|        285|                         95|   860|                    36|           30|                           10|            4|                           17|     2|     21|                       15|                        0|                     30|                  15|\n",
      "|Breakfast|Sausage McMuffin ...|5.7 oz (161 g)|     400|              210|     23.0|                       35|          8.0|                           42|      0.0|         50|                         16|   880|                    37|           30|                           10|            4|                           17|     2|     21|                        6|                        0|                     25|                  10|\n",
      "+---------+--------------------+--------------+--------+-----------------+---------+-------------------------+-------------+-----------------------------+---------+-----------+---------------------------+------+----------------------+-------------+-----------------------------+-------------+-----------------------------+------+-------+-------------------------+-------------------------+-----------------------+--------------------+\n",
      "only showing top 5 rows\n",
      "\n"
     ]
    }
   ],
   "source": [
    "df.show(5)"
   ]
  },
  {
   "cell_type": "code",
   "execution_count": 14,
   "metadata": {},
   "outputs": [
    {
     "name": "stdout",
     "output_type": "stream",
     "text": [
      "root\n",
      " |-- Category: string (nullable = true)\n",
      " |-- Item: string (nullable = true)\n",
      " |-- Serving Size: string (nullable = true)\n",
      " |-- Calories: integer (nullable = true)\n",
      " |-- Calories from Fat: integer (nullable = true)\n",
      " |-- Total Fat: double (nullable = true)\n",
      " |-- Total Fat (% Daily Value): integer (nullable = true)\n",
      " |-- Saturated Fat: double (nullable = true)\n",
      " |-- Saturated Fat (% Daily Value): integer (nullable = true)\n",
      " |-- Trans Fat: double (nullable = true)\n",
      " |-- Cholesterol: integer (nullable = true)\n",
      " |-- Cholesterol (% Daily Value): integer (nullable = true)\n",
      " |-- Sodium: integer (nullable = true)\n",
      " |-- Sodium (% Daily Value): integer (nullable = true)\n",
      " |-- Carbohydrates: integer (nullable = true)\n",
      " |-- Carbohydrates (% Daily Value): integer (nullable = true)\n",
      " |-- Dietary Fiber: integer (nullable = true)\n",
      " |-- Dietary Fiber (% Daily Value): integer (nullable = true)\n",
      " |-- Sugars: integer (nullable = true)\n",
      " |-- Protein: integer (nullable = true)\n",
      " |-- Vitamin A (% Daily Value): integer (nullable = true)\n",
      " |-- Vitamin C (% Daily Value): integer (nullable = true)\n",
      " |-- Calcium (% Daily Value): integer (nullable = true)\n",
      " |-- Iron (% Daily Value): integer (nullable = true)\n",
      "\n"
     ]
    }
   ],
   "source": [
    "df.printSchema()"
   ]
  },
  {
   "cell_type": "code",
   "execution_count": 15,
   "metadata": {},
   "outputs": [
    {
     "data": {
      "text/plain": [
       "260"
      ]
     },
     "execution_count": 15,
     "metadata": {},
     "output_type": "execute_result"
    }
   ],
   "source": [
    "df.count()"
   ]
  },
  {
   "cell_type": "code",
   "execution_count": 16,
   "metadata": {},
   "outputs": [
    {
     "data": {
      "text/plain": [
       "DataFrame[summary: string, Category: string, Item: string, Serving Size: string, Calories: string, Calories from Fat: string, Total Fat: string, Total Fat (% Daily Value): string, Saturated Fat: string, Saturated Fat (% Daily Value): string, Trans Fat: string, Cholesterol: string, Cholesterol (% Daily Value): string, Sodium: string, Sodium (% Daily Value): string, Carbohydrates: string, Carbohydrates (% Daily Value): string, Dietary Fiber: string, Dietary Fiber (% Daily Value): string, Sugars: string, Protein: string, Vitamin A (% Daily Value): string, Vitamin C (% Daily Value): string, Calcium (% Daily Value): string, Iron (% Daily Value): string]"
      ]
     },
     "execution_count": 16,
     "metadata": {},
     "output_type": "execute_result"
    }
   ],
   "source": [
    "df.describe()"
   ]
  },
  {
   "cell_type": "code",
   "execution_count": null,
   "metadata": {},
   "outputs": [],
   "source": [
    "df.describe(['Wave Number', 'Years']).show()"
   ]
  }
 ],
 "metadata": {
  "kernelspec": {
   "display_name": "Python 3",
   "language": "python",
   "name": "python3"
  },
  "language_info": {
   "codemirror_mode": {
    "name": "ipython",
    "version": 3
   },
   "file_extension": ".py",
   "mimetype": "text/x-python",
   "name": "python",
   "nbconvert_exporter": "python",
   "pygments_lexer": "ipython3",
   "version": "3.6.7"
  }
 },
 "nbformat": 4,
 "nbformat_minor": 2
}
