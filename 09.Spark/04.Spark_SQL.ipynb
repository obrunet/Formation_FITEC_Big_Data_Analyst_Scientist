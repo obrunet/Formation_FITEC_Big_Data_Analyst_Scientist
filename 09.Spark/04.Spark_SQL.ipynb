{
 "cells": [
  {
   "cell_type": "markdown",
   "metadata": {},
   "source": [
    "# Importing file needed"
   ]
  },
  {
   "cell_type": "markdown",
   "metadata": {},
   "source": [
    "First of all import the csv file using either \"docker cp\" command or the upload fonction :\n",
    "\n",
    "- docker cp [OPTIONS] CONTAINER:SRC_PATH DEST_PATH|-\n",
    "- ocker cp [OPTIONS] SRC_PATH|- CONTAINER:DEST_PATH\n",
    "- docker cp Code/09.Spark/survey.csv 311c58a8572f:./\n",
    "- docker cp Code/09.Spark/survey.csv 311c58a8572f:home/jovyan/datasource"
   ]
  },
  {
   "cell_type": "code",
   "execution_count": 1,
   "metadata": {},
   "outputs": [
    {
     "name": "stdout",
     "output_type": "stream",
     "text": [
      "\"Timestamp\",\"Age\",\"Gender\",\"Country\",\"state\",\"self_employed\",\"family_history\",\"treatment\",\"work_interfere\",\"no_employees\",\"remote_work\",\"tech_company\",\"benefits\",\"care_options\",\"wellness_program\",\"seek_help\",\"anonymity\",\"leave\",\"mental_health_consequence\",\"phys_health_consequence\",\"coworkers\",\"supervisor\",\"mental_health_interview\",\"phys_health_interview\",\"mental_vs_physical\",\"obs_consequence\",\"comments\"\r\n",
      "2014-08-27 11:29:31,37,\"Female\",\"United States\",\"IL\",NA,\"No\",\"Yes\",\"Often\",\"6-25\",\"No\",\"Yes\",\"Yes\",\"Not sure\",\"No\",\"Yes\",\"Yes\",\"Somewhat easy\",\"No\",\"No\",\"Some of them\",\"Yes\",\"No\",\"Maybe\",\"Yes\",\"No\",NA\r\n"
     ]
    }
   ],
   "source": [
    "!head -n 2 ../datasource/survey.csv "
   ]
  },
  {
   "cell_type": "markdown",
   "metadata": {},
   "source": [
    "# Spark Session"
   ]
  },
  {
   "cell_type": "code",
   "execution_count": 2,
   "metadata": {},
   "outputs": [],
   "source": [
    "from pyspark.sql import SparkSession\n",
    "\n",
    "import pandas as pd\n",
    "import seaborn as sns\n",
    "import matplotlib.pyplot as plt\n",
    "\n",
    "pd.options.display.max_columns = 100\n",
    "\n",
    "import warnings\n",
    "warnings.filterwarnings(\"ignore\")"
   ]
  },
  {
   "cell_type": "code",
   "execution_count": 3,
   "metadata": {},
   "outputs": [
    {
     "data": {
      "text/plain": [
       "[Row(Timestamp='2014-08-27 11:29:31', Age='37', Gender='Female', Country='United States', state='IL', self_employed='NA', family_history='No', treatment='Yes', work_interfere='Often', no_employees='6-25', remote_work='No', tech_company='Yes', benefits='Yes', care_options='Not sure', wellness_program='No', seek_help='Yes', anonymity='Yes', leave='Somewhat easy', mental_health_consequence='No', phys_health_consequence='No', coworkers='Some of them', supervisor='Yes', mental_health_interview='No', phys_health_interview='Maybe', mental_vs_physical='Yes', obs_consequence='No', comments='NA'),\n",
       " Row(Timestamp='2014-08-27 11:29:37', Age='44', Gender='M', Country='United States', state='IN', self_employed='NA', family_history='No', treatment='No', work_interfere='Rarely', no_employees='More than 1000', remote_work='No', tech_company='No', benefits=\"Don't know\", care_options='No', wellness_program=\"Don't know\", seek_help=\"Don't know\", anonymity=\"Don't know\", leave=\"Don't know\", mental_health_consequence='Maybe', phys_health_consequence='No', coworkers='No', supervisor='No', mental_health_interview='No', phys_health_interview='No', mental_vs_physical=\"Don't know\", obs_consequence='No', comments='NA'),\n",
       " Row(Timestamp='2014-08-27 11:29:44', Age='32', Gender='Male', Country='Canada', state='NA', self_employed='NA', family_history='No', treatment='No', work_interfere='Rarely', no_employees='6-25', remote_work='No', tech_company='Yes', benefits='No', care_options='No', wellness_program='No', seek_help='No', anonymity=\"Don't know\", leave='Somewhat difficult', mental_health_consequence='No', phys_health_consequence='No', coworkers='Yes', supervisor='Yes', mental_health_interview='Yes', phys_health_interview='Yes', mental_vs_physical='No', obs_consequence='No', comments='NA')]"
      ]
     },
     "execution_count": 3,
     "metadata": {},
     "output_type": "execute_result"
    }
   ],
   "source": [
    "spark = SparkSession \\\n",
    "    .builder \\\n",
    "    .appName(\"_Practical_Spark_Ex\") \\\n",
    "    .config(\"spark.some.config.option\", \"some-value\") \\\n",
    "    .getOrCreate()\n",
    "\n",
    "df = spark.read.csv(\"../datasource/survey.csv\", header=True, sep=\",\");\n",
    "\n",
    "df.limit(3).collect()"
   ]
  },
  {
   "cell_type": "markdown",
   "metadata": {},
   "source": [
    "Prior Spark 2.0, Spark Context was the entry point of any spark application and used to access all spark features and needed a sparkConf which had all the cluster configs and parameters to create a Spark Context object. We could primarily create just RDDs using Spark Context and we had to create specific spark contexts for any other spark interactions. For SQL SQLContext, hive HiveContext, streaming Streaming Application. In a nutshell, Spark session is a combination of all these different contexts. Internally, Spark session creates a new SparkContext for all the operations and also all the above-mentioned contexts can be accessed using the SparkSession object.\n",
    "\n",
    "https://medium.com/@achilleus/spark-session-10d0d66d1d24"
   ]
  },
  {
   "cell_type": "markdown",
   "metadata": {},
   "source": [
    "other option : create a context, than a session"
   ]
  },
  {
   "cell_type": "code",
   "execution_count": null,
   "metadata": {},
   "outputs": [],
   "source": [
    "import pyspark\n",
    "from pyspark.sql import SparkSession\n",
    "\n",
    "sc = pyspark.SparkContext('local[*]')\n",
    "spark = SparkSession(sc)\n",
    "\n",
    "df = spark.read.csv('../datasource/survey.csv')\n",
    "df.collect()"
   ]
  },
  {
   "cell_type": "markdown",
   "metadata": {},
   "source": [
    "# Dataframe view"
   ]
  },
  {
   "cell_type": "code",
   "execution_count": 5,
   "metadata": {},
   "outputs": [],
   "source": [
    "#df.show()"
   ]
  },
  {
   "cell_type": "markdown",
   "metadata": {},
   "source": [
    "# Basic methods to retrieve infos"
   ]
  },
  {
   "cell_type": "code",
   "execution_count": 7,
   "metadata": {},
   "outputs": [
    {
     "data": {
      "text/plain": [
       "Row(Timestamp='2014-08-27 11:29:31', Age='37', Gender='Female', Country='United States', state='IL', self_employed='NA', family_history='No', treatment='Yes', work_interfere='Often', no_employees='6-25', remote_work='No', tech_company='Yes', benefits='Yes', care_options='Not sure', wellness_program='No', seek_help='Yes', anonymity='Yes', leave='Somewhat easy', mental_health_consequence='No', phys_health_consequence='No', coworkers='Some of them', supervisor='Yes', mental_health_interview='No', phys_health_interview='Maybe', mental_vs_physical='Yes', obs_consequence='No', comments='NA')"
      ]
     },
     "execution_count": 7,
     "metadata": {},
     "output_type": "execute_result"
    }
   ],
   "source": [
    "df.first()"
   ]
  },
  {
   "cell_type": "code",
   "execution_count": 8,
   "metadata": {},
   "outputs": [
    {
     "data": {
      "text/plain": [
       "[Row(Timestamp='2014-08-27 11:29:31', Age='37', Gender='Female', Country='United States', state='IL', self_employed='NA', family_history='No', treatment='Yes', work_interfere='Often', no_employees='6-25', remote_work='No', tech_company='Yes', benefits='Yes', care_options='Not sure', wellness_program='No', seek_help='Yes', anonymity='Yes', leave='Somewhat easy', mental_health_consequence='No', phys_health_consequence='No', coworkers='Some of them', supervisor='Yes', mental_health_interview='No', phys_health_interview='Maybe', mental_vs_physical='Yes', obs_consequence='No', comments='NA'),\n",
       " Row(Timestamp='2014-08-27 11:29:37', Age='44', Gender='M', Country='United States', state='IN', self_employed='NA', family_history='No', treatment='No', work_interfere='Rarely', no_employees='More than 1000', remote_work='No', tech_company='No', benefits=\"Don't know\", care_options='No', wellness_program=\"Don't know\", seek_help=\"Don't know\", anonymity=\"Don't know\", leave=\"Don't know\", mental_health_consequence='Maybe', phys_health_consequence='No', coworkers='No', supervisor='No', mental_health_interview='No', phys_health_interview='No', mental_vs_physical=\"Don't know\", obs_consequence='No', comments='NA')]"
      ]
     },
     "execution_count": 8,
     "metadata": {},
     "output_type": "execute_result"
    }
   ],
   "source": [
    "df.take(2)"
   ]
  },
  {
   "cell_type": "code",
   "execution_count": 9,
   "metadata": {},
   "outputs": [
    {
     "data": {
      "text/plain": [
       "[Row(Timestamp='2014-08-27 11:29:31', Age='37'),\n",
       " Row(Timestamp='2014-08-27 11:29:37', Age='44'),\n",
       " Row(Timestamp='2014-08-27 11:29:44', Age='32')]"
      ]
     },
     "execution_count": 9,
     "metadata": {},
     "output_type": "execute_result"
    }
   ],
   "source": [
    "df.select(\"Timestamp\",\"Age\").limit(3).collect()"
   ]
  },
  {
   "cell_type": "code",
   "execution_count": 10,
   "metadata": {},
   "outputs": [
    {
     "data": {
      "text/plain": [
       "DataFrame[Timestamp: string, Age: string, Gender: string, Country: string, state: string, self_employed: string, family_history: string, treatment: string, work_interfere: string, no_employees: string, remote_work: string, tech_company: string, benefits: string, care_options: string, wellness_program: string, seek_help: string, anonymity: string, leave: string, mental_health_consequence: string, phys_health_consequence: string, coworkers: string, supervisor: string, mental_health_interview: string, phys_health_interview: string, mental_vs_physical: string, obs_consequence: string, comments: string]"
      ]
     },
     "execution_count": 10,
     "metadata": {},
     "output_type": "execute_result"
    }
   ],
   "source": [
    "df.select(\"*\")"
   ]
  },
  {
   "cell_type": "code",
   "execution_count": 11,
   "metadata": {},
   "outputs": [
    {
     "name": "stdout",
     "output_type": "stream",
     "text": [
      "root\n",
      " |-- Timestamp: string (nullable = true)\n",
      " |-- Age: string (nullable = true)\n",
      " |-- Gender: string (nullable = true)\n",
      " |-- Country: string (nullable = true)\n",
      " |-- state: string (nullable = true)\n",
      " |-- self_employed: string (nullable = true)\n",
      " |-- family_history: string (nullable = true)\n",
      " |-- treatment: string (nullable = true)\n",
      " |-- work_interfere: string (nullable = true)\n",
      " |-- no_employees: string (nullable = true)\n",
      " |-- remote_work: string (nullable = true)\n",
      " |-- tech_company: string (nullable = true)\n",
      " |-- benefits: string (nullable = true)\n",
      " |-- care_options: string (nullable = true)\n",
      " |-- wellness_program: string (nullable = true)\n",
      " |-- seek_help: string (nullable = true)\n",
      " |-- anonymity: string (nullable = true)\n",
      " |-- leave: string (nullable = true)\n",
      " |-- mental_health_consequence: string (nullable = true)\n",
      " |-- phys_health_consequence: string (nullable = true)\n",
      " |-- coworkers: string (nullable = true)\n",
      " |-- supervisor: string (nullable = true)\n",
      " |-- mental_health_interview: string (nullable = true)\n",
      " |-- phys_health_interview: string (nullable = true)\n",
      " |-- mental_vs_physical: string (nullable = true)\n",
      " |-- obs_consequence: string (nullable = true)\n",
      " |-- comments: string (nullable = true)\n",
      "\n"
     ]
    }
   ],
   "source": [
    "df.printSchema()"
   ]
  },
  {
   "cell_type": "code",
   "execution_count": 12,
   "metadata": {},
   "outputs": [
    {
     "data": {
      "text/plain": [
       "1259"
      ]
     },
     "execution_count": 12,
     "metadata": {},
     "output_type": "execute_result"
    }
   ],
   "source": [
    "df.count()"
   ]
  },
  {
   "cell_type": "code",
   "execution_count": 13,
   "metadata": {},
   "outputs": [
    {
     "data": {
      "text/plain": [
       "[('Timestamp', 'string'),\n",
       " ('Age', 'string'),\n",
       " ('Gender', 'string'),\n",
       " ('Country', 'string'),\n",
       " ('state', 'string'),\n",
       " ('self_employed', 'string'),\n",
       " ('family_history', 'string'),\n",
       " ('treatment', 'string'),\n",
       " ('work_interfere', 'string'),\n",
       " ('no_employees', 'string'),\n",
       " ('remote_work', 'string'),\n",
       " ('tech_company', 'string'),\n",
       " ('benefits', 'string'),\n",
       " ('care_options', 'string'),\n",
       " ('wellness_program', 'string'),\n",
       " ('seek_help', 'string'),\n",
       " ('anonymity', 'string'),\n",
       " ('leave', 'string'),\n",
       " ('mental_health_consequence', 'string'),\n",
       " ('phys_health_consequence', 'string'),\n",
       " ('coworkers', 'string'),\n",
       " ('supervisor', 'string'),\n",
       " ('mental_health_interview', 'string'),\n",
       " ('phys_health_interview', 'string'),\n",
       " ('mental_vs_physical', 'string'),\n",
       " ('obs_consequence', 'string'),\n",
       " ('comments', 'string')]"
      ]
     },
     "execution_count": 13,
     "metadata": {},
     "output_type": "execute_result"
    }
   ],
   "source": [
    "df.dtypes"
   ]
  },
  {
   "cell_type": "code",
   "execution_count": 15,
   "metadata": {},
   "outputs": [],
   "source": [
    "from pyspark.sql.types import DoubleType\n",
    "\n",
    "df = df.withColumn(\"Age\", df[\"Age\"].cast(DoubleType()))"
   ]
  },
  {
   "cell_type": "code",
   "execution_count": 16,
   "metadata": {},
   "outputs": [
    {
     "data": {
      "text/plain": [
       "DataFrame[Age: double]"
      ]
     },
     "execution_count": 16,
     "metadata": {},
     "output_type": "execute_result"
    }
   ],
   "source": [
    "df.select(\"Age\")"
   ]
  },
  {
   "cell_type": "code",
   "execution_count": 29,
   "metadata": {},
   "outputs": [],
   "source": [
    "df.write.save(\"backup_df.csv\", format=\"csv\")"
   ]
  },
  {
   "cell_type": "code",
   "execution_count": 34,
   "metadata": {},
   "outputs": [],
   "source": [
    "df.select(\"Age\").write.save(\"backup_age.csv\", format=\"csv\")"
   ]
  },
  {
   "cell_type": "code",
   "execution_count": 35,
   "metadata": {},
   "outputs": [
    {
     "name": "stdout",
     "output_type": "stream",
     "text": [
      "04.Spark_SQL.ipynb  backup_age.csv  backup_df.csv\r\n"
     ]
    }
   ],
   "source": [
    "!ls"
   ]
  },
  {
   "cell_type": "code",
   "execution_count": 31,
   "metadata": {},
   "outputs": [
    {
     "name": "stdout",
     "output_type": "stream",
     "text": [
      "part-00000-d1c21e03-ae8f-4937-811b-70fd108325eb-c000.csv  _SUCCESS\r\n"
     ]
    }
   ],
   "source": [
    "!ls backup_df.csv/"
   ]
  },
  {
   "cell_type": "code",
   "execution_count": 38,
   "metadata": {},
   "outputs": [
    {
     "data": {
      "text/plain": [
       "[Row(Timestamp='2014-08-27 11:29:31', Age=37.0),\n",
       " Row(Timestamp='2014-08-27 11:29:37', Age=44.0)]"
      ]
     },
     "execution_count": 38,
     "metadata": {},
     "output_type": "execute_result"
    }
   ],
   "source": [
    "df_test = df.select(\"Timestamp\", \"Age\")\n",
    "df_test.limit(2).collect()"
   ]
  },
  {
   "cell_type": "markdown",
   "metadata": {},
   "source": [
    " # Basic stats"
   ]
  },
  {
   "cell_type": "code",
   "execution_count": 17,
   "metadata": {},
   "outputs": [
    {
     "name": "stdout",
     "output_type": "stream",
     "text": [
      "+-------+-------------------+--------------------+------------------+---------+-----+-------------+--------------+---------+--------------+--------------+-----------+------------+----------+------------+----------------+----------+----------+----------+-------------------------+-----------------------+---------+----------+-----------------------+---------------------+------------------+---------------+--------------------+\n",
      "|summary|          Timestamp|                 Age|            Gender|  Country|state|self_employed|family_history|treatment|work_interfere|  no_employees|remote_work|tech_company|  benefits|care_options|wellness_program| seek_help| anonymity|     leave|mental_health_consequence|phys_health_consequence|coworkers|supervisor|mental_health_interview|phys_health_interview|mental_vs_physical|obs_consequence|            comments|\n",
      "+-------+-------------------+--------------------+------------------+---------+-----+-------------+--------------+---------+--------------+--------------+-----------+------------+----------+------------+----------------+----------+----------+----------+-------------------------+-----------------------+---------+----------+-----------------------+---------------------+------------------+---------------+--------------------+\n",
      "|  count|               1259|                1259|              1259|     1259| 1259|         1259|          1259|     1259|          1259|          1259|       1259|        1259|      1259|        1259|            1259|      1259|      1259|      1259|                     1259|                   1259|     1259|      1259|                   1259|                 1259|              1259|           1259|                1259|\n",
      "|   mean|               null| 7.942814831135821E7|              null|     null| null|         null|          null|     null|          null|          null|       null|        null|      null|        null|            null|      null|      null|      null|                     null|                   null|     null|      null|                   null|                 null|              null|           null|                null|\n",
      "| stddev|               null|2.8182994429819684E9|              null|     null| null|         null|          null|     null|          null|          null|       null|        null|      null|        null|            null|      null|      null|      null|                     null|                   null|     null|      null|                   null|                 null|              null|           null|                null|\n",
      "|    min|2014-08-27 11:29:31|             -1726.0|A little about you|Australia|   AL|           NA|            No|       No|            NA|           1-5|         No|          No|Don't know|          No|      Don't know|Don't know|Don't know|Don't know|                    Maybe|                  Maybe|       No|        No|                  Maybe|                Maybe|        Don't know|             No|                    |\n",
      "|    max|2016-02-01 23:04:31|     9.9999999999E10|             woman| Zimbabwe|   WY|          Yes|           Yes|      Yes|     Sometimes|More than 1000|        Yes|         Yes|       Yes|         Yes|             Yes|       Yes|       Yes| Very easy|                      Yes|                    Yes|      Yes|       Yes|                    Yes|                  Yes|               Yes|            Yes|you rock for doin...|\n",
      "+-------+-------------------+--------------------+------------------+---------+-----+-------------+--------------+---------+--------------+--------------+-----------+------------+----------+------------+----------------+----------+----------+----------+-------------------------+-----------------------+---------+----------+-----------------------+---------------------+------------------+---------------+--------------------+\n",
      "\n"
     ]
    }
   ],
   "source": [
    "df.describe().show()"
   ]
  },
  {
   "cell_type": "code",
   "execution_count": 18,
   "metadata": {},
   "outputs": [],
   "source": [
    "def pretty_summary(df):\n",
    "    \"\"\" Neat summary statistics of a Spark dataframe\n",
    "    Args: pyspark.sql.dataframe.DataFrame (df): input dataframe\n",
    "    Returns:pandas.core.frame.DataFrame: a pandas dataframe with the summary statistics of df\n",
    "    \"\"\"\n",
    "    import pandas as pd\n",
    "    temp = df.describe().toPandas()\n",
    "    temp.iloc[1:3,1:] = temp.iloc[1:3,1:].convert_objects(convert_numeric=True)\n",
    "    pd.options.display.float_format = '{:,.2f}'.format\n",
    "    return temp"
   ]
  },
  {
   "cell_type": "code",
   "execution_count": 19,
   "metadata": {},
   "outputs": [
    {
     "data": {
      "text/html": [
       "<div>\n",
       "<style scoped>\n",
       "    .dataframe tbody tr th:only-of-type {\n",
       "        vertical-align: middle;\n",
       "    }\n",
       "\n",
       "    .dataframe tbody tr th {\n",
       "        vertical-align: top;\n",
       "    }\n",
       "\n",
       "    .dataframe thead th {\n",
       "        text-align: right;\n",
       "    }\n",
       "</style>\n",
       "<table border=\"1\" class=\"dataframe\">\n",
       "  <thead>\n",
       "    <tr style=\"text-align: right;\">\n",
       "      <th></th>\n",
       "      <th>summary</th>\n",
       "      <th>Timestamp</th>\n",
       "      <th>Age</th>\n",
       "      <th>Gender</th>\n",
       "      <th>Country</th>\n",
       "      <th>state</th>\n",
       "      <th>self_employed</th>\n",
       "      <th>family_history</th>\n",
       "      <th>treatment</th>\n",
       "      <th>work_interfere</th>\n",
       "      <th>no_employees</th>\n",
       "      <th>remote_work</th>\n",
       "      <th>tech_company</th>\n",
       "      <th>benefits</th>\n",
       "      <th>care_options</th>\n",
       "      <th>wellness_program</th>\n",
       "      <th>seek_help</th>\n",
       "      <th>anonymity</th>\n",
       "      <th>leave</th>\n",
       "      <th>mental_health_consequence</th>\n",
       "      <th>phys_health_consequence</th>\n",
       "      <th>coworkers</th>\n",
       "      <th>supervisor</th>\n",
       "      <th>mental_health_interview</th>\n",
       "      <th>phys_health_interview</th>\n",
       "      <th>mental_vs_physical</th>\n",
       "      <th>obs_consequence</th>\n",
       "      <th>comments</th>\n",
       "    </tr>\n",
       "  </thead>\n",
       "  <tbody>\n",
       "    <tr>\n",
       "      <th>0</th>\n",
       "      <td>count</td>\n",
       "      <td>1259</td>\n",
       "      <td>1259</td>\n",
       "      <td>1259</td>\n",
       "      <td>1259</td>\n",
       "      <td>1259</td>\n",
       "      <td>1259</td>\n",
       "      <td>1259</td>\n",
       "      <td>1259</td>\n",
       "      <td>1259</td>\n",
       "      <td>1259</td>\n",
       "      <td>1259</td>\n",
       "      <td>1259</td>\n",
       "      <td>1259</td>\n",
       "      <td>1259</td>\n",
       "      <td>1259</td>\n",
       "      <td>1259</td>\n",
       "      <td>1259</td>\n",
       "      <td>1259</td>\n",
       "      <td>1259</td>\n",
       "      <td>1259</td>\n",
       "      <td>1259</td>\n",
       "      <td>1259</td>\n",
       "      <td>1259</td>\n",
       "      <td>1259</td>\n",
       "      <td>1259</td>\n",
       "      <td>1259</td>\n",
       "      <td>1259</td>\n",
       "    </tr>\n",
       "    <tr>\n",
       "      <th>1</th>\n",
       "      <td>mean</td>\n",
       "      <td>None</td>\n",
       "      <td>79,428,148.31</td>\n",
       "      <td>None</td>\n",
       "      <td>None</td>\n",
       "      <td>None</td>\n",
       "      <td>None</td>\n",
       "      <td>None</td>\n",
       "      <td>None</td>\n",
       "      <td>None</td>\n",
       "      <td>None</td>\n",
       "      <td>None</td>\n",
       "      <td>None</td>\n",
       "      <td>None</td>\n",
       "      <td>None</td>\n",
       "      <td>None</td>\n",
       "      <td>None</td>\n",
       "      <td>None</td>\n",
       "      <td>None</td>\n",
       "      <td>None</td>\n",
       "      <td>None</td>\n",
       "      <td>None</td>\n",
       "      <td>None</td>\n",
       "      <td>None</td>\n",
       "      <td>None</td>\n",
       "      <td>None</td>\n",
       "      <td>None</td>\n",
       "      <td>None</td>\n",
       "    </tr>\n",
       "    <tr>\n",
       "      <th>2</th>\n",
       "      <td>stddev</td>\n",
       "      <td>None</td>\n",
       "      <td>2,818,299,442.98</td>\n",
       "      <td>None</td>\n",
       "      <td>None</td>\n",
       "      <td>None</td>\n",
       "      <td>None</td>\n",
       "      <td>None</td>\n",
       "      <td>None</td>\n",
       "      <td>None</td>\n",
       "      <td>None</td>\n",
       "      <td>None</td>\n",
       "      <td>None</td>\n",
       "      <td>None</td>\n",
       "      <td>None</td>\n",
       "      <td>None</td>\n",
       "      <td>None</td>\n",
       "      <td>None</td>\n",
       "      <td>None</td>\n",
       "      <td>None</td>\n",
       "      <td>None</td>\n",
       "      <td>None</td>\n",
       "      <td>None</td>\n",
       "      <td>None</td>\n",
       "      <td>None</td>\n",
       "      <td>None</td>\n",
       "      <td>None</td>\n",
       "      <td>None</td>\n",
       "    </tr>\n",
       "    <tr>\n",
       "      <th>3</th>\n",
       "      <td>min</td>\n",
       "      <td>2014-08-27 11:29:31</td>\n",
       "      <td>-1726.0</td>\n",
       "      <td>A little about you</td>\n",
       "      <td>Australia</td>\n",
       "      <td>AL</td>\n",
       "      <td>NA</td>\n",
       "      <td>No</td>\n",
       "      <td>No</td>\n",
       "      <td>NA</td>\n",
       "      <td>1-5</td>\n",
       "      <td>No</td>\n",
       "      <td>No</td>\n",
       "      <td>Don't know</td>\n",
       "      <td>No</td>\n",
       "      <td>Don't know</td>\n",
       "      <td>Don't know</td>\n",
       "      <td>Don't know</td>\n",
       "      <td>Don't know</td>\n",
       "      <td>Maybe</td>\n",
       "      <td>Maybe</td>\n",
       "      <td>No</td>\n",
       "      <td>No</td>\n",
       "      <td>Maybe</td>\n",
       "      <td>Maybe</td>\n",
       "      <td>Don't know</td>\n",
       "      <td>No</td>\n",
       "      <td></td>\n",
       "    </tr>\n",
       "    <tr>\n",
       "      <th>4</th>\n",
       "      <td>max</td>\n",
       "      <td>2016-02-01 23:04:31</td>\n",
       "      <td>9.9999999999E10</td>\n",
       "      <td>woman</td>\n",
       "      <td>Zimbabwe</td>\n",
       "      <td>WY</td>\n",
       "      <td>Yes</td>\n",
       "      <td>Yes</td>\n",
       "      <td>Yes</td>\n",
       "      <td>Sometimes</td>\n",
       "      <td>More than 1000</td>\n",
       "      <td>Yes</td>\n",
       "      <td>Yes</td>\n",
       "      <td>Yes</td>\n",
       "      <td>Yes</td>\n",
       "      <td>Yes</td>\n",
       "      <td>Yes</td>\n",
       "      <td>Yes</td>\n",
       "      <td>Very easy</td>\n",
       "      <td>Yes</td>\n",
       "      <td>Yes</td>\n",
       "      <td>Yes</td>\n",
       "      <td>Yes</td>\n",
       "      <td>Yes</td>\n",
       "      <td>Yes</td>\n",
       "      <td>Yes</td>\n",
       "      <td>Yes</td>\n",
       "      <td>you rock for doing this!</td>\n",
       "    </tr>\n",
       "  </tbody>\n",
       "</table>\n",
       "</div>"
      ],
      "text/plain": [
       "  summary            Timestamp              Age              Gender  \\\n",
       "0   count                 1259             1259                1259   \n",
       "1    mean                 None    79,428,148.31                None   \n",
       "2  stddev                 None 2,818,299,442.98                None   \n",
       "3     min  2014-08-27 11:29:31          -1726.0  A little about you   \n",
       "4     max  2016-02-01 23:04:31  9.9999999999E10               woman   \n",
       "\n",
       "     Country state self_employed family_history treatment work_interfere  \\\n",
       "0       1259  1259          1259           1259      1259           1259   \n",
       "1       None  None          None           None      None           None   \n",
       "2       None  None          None           None      None           None   \n",
       "3  Australia    AL            NA             No        No             NA   \n",
       "4   Zimbabwe    WY           Yes            Yes       Yes      Sometimes   \n",
       "\n",
       "     no_employees remote_work tech_company    benefits care_options  \\\n",
       "0            1259        1259         1259        1259         1259   \n",
       "1            None        None         None        None         None   \n",
       "2            None        None         None        None         None   \n",
       "3             1-5          No           No  Don't know           No   \n",
       "4  More than 1000         Yes          Yes         Yes          Yes   \n",
       "\n",
       "  wellness_program   seek_help   anonymity       leave  \\\n",
       "0             1259        1259        1259        1259   \n",
       "1             None        None        None        None   \n",
       "2             None        None        None        None   \n",
       "3       Don't know  Don't know  Don't know  Don't know   \n",
       "4              Yes         Yes         Yes   Very easy   \n",
       "\n",
       "  mental_health_consequence phys_health_consequence coworkers supervisor  \\\n",
       "0                      1259                    1259      1259       1259   \n",
       "1                      None                    None      None       None   \n",
       "2                      None                    None      None       None   \n",
       "3                     Maybe                   Maybe        No         No   \n",
       "4                       Yes                     Yes       Yes        Yes   \n",
       "\n",
       "  mental_health_interview phys_health_interview mental_vs_physical  \\\n",
       "0                    1259                  1259               1259   \n",
       "1                    None                  None               None   \n",
       "2                    None                  None               None   \n",
       "3                   Maybe                 Maybe         Don't know   \n",
       "4                     Yes                   Yes                Yes   \n",
       "\n",
       "  obs_consequence                  comments  \n",
       "0            1259                      1259  \n",
       "1            None                      None  \n",
       "2            None                      None  \n",
       "3              No                            \n",
       "4             Yes  you rock for doing this!  "
      ]
     },
     "execution_count": 19,
     "metadata": {},
     "output_type": "execute_result"
    }
   ],
   "source": [
    "pretty_summary(df)"
   ]
  },
  {
   "cell_type": "markdown",
   "metadata": {},
   "source": [
    "# Exploratory Data Analysis"
   ]
  },
  {
   "cell_type": "code",
   "execution_count": 20,
   "metadata": {},
   "outputs": [
    {
     "data": {
      "text/plain": [
       "[Row(Gender='Female', Age=37.0, Country='United States'),\n",
       " Row(Gender='M', Age=44.0, Country='United States'),\n",
       " Row(Gender='Male', Age=32.0, Country='Canada'),\n",
       " Row(Gender='Male', Age=31.0, Country='United Kingdom'),\n",
       " Row(Gender='Male', Age=31.0, Country='United States')]"
      ]
     },
     "execution_count": 20,
     "metadata": {},
     "output_type": "execute_result"
    }
   ],
   "source": [
    "df.select(\"Gender\",\"Age\", \"Country\").limit(5).collect()"
   ]
  },
  {
   "cell_type": "markdown",
   "metadata": {},
   "source": [
    "Equivalent of where in SQL"
   ]
  },
  {
   "cell_type": "code",
   "execution_count": 24,
   "metadata": {},
   "outputs": [
    {
     "data": {
      "text/plain": [
       "0.414614773629865"
      ]
     },
     "execution_count": 24,
     "metadata": {},
     "output_type": "execute_result"
    }
   ],
   "source": [
    "df.filter(df['Age'] < 30).count() / df.count()"
   ]
  },
  {
   "cell_type": "code",
   "execution_count": 22,
   "metadata": {},
   "outputs": [
    {
     "data": {
      "text/plain": [
       "0.414614773629865"
      ]
     },
     "execution_count": 22,
     "metadata": {},
     "output_type": "execute_result"
    }
   ],
   "source": [
    "df.filter(df.Age < 30).count() / df.count()"
   ]
  },
  {
   "cell_type": "code",
   "execution_count": 23,
   "metadata": {},
   "outputs": [
    {
     "data": {
      "text/plain": [
       "0.585385226370135"
      ]
     },
     "execution_count": 23,
     "metadata": {},
     "output_type": "execute_result"
    }
   ],
   "source": [
    "df.filter(df.Age >= 30).count() / df.count()"
   ]
  },
  {
   "cell_type": "code",
   "execution_count": 26,
   "metadata": {},
   "outputs": [
    {
     "name": "stdout",
     "output_type": "stream",
     "text": [
      "+-------+--------------------+\n",
      "|summary|                 Age|\n",
      "+-------+--------------------+\n",
      "|  count|                1259|\n",
      "|   mean| 7.942814831135821E7|\n",
      "| stddev|2.8182994429819684E9|\n",
      "|    min|             -1726.0|\n",
      "|    max|     9.9999999999E10|\n",
      "+-------+--------------------+\n",
      "\n"
     ]
    }
   ],
   "source": [
    "df.select('Age').describe().show()"
   ]
  },
  {
   "cell_type": "code",
   "execution_count": 50,
   "metadata": {},
   "outputs": [],
   "source": [
    "df = df[(df['Age'] > 0) & (df['Age'] < 100)]"
   ]
  },
  {
   "cell_type": "code",
   "execution_count": 51,
   "metadata": {},
   "outputs": [
    {
     "data": {
      "text/plain": [
       "1254"
      ]
     },
     "execution_count": 51,
     "metadata": {},
     "output_type": "execute_result"
    }
   ],
   "source": [
    "df.count()"
   ]
  },
  {
   "cell_type": "code",
   "execution_count": 53,
   "metadata": {},
   "outputs": [
    {
     "name": "stdout",
     "output_type": "stream",
     "text": [
      "+-------+------------------+\n",
      "|summary|               Age|\n",
      "+-------+------------------+\n",
      "|  count|              1254|\n",
      "|   mean| 32.01913875598086|\n",
      "| stddev|7.3750047368256935|\n",
      "|    min|               5.0|\n",
      "|    max|              72.0|\n",
      "+-------+------------------+\n",
      "\n"
     ]
    }
   ],
   "source": [
    "df.select('Age').describe().show()"
   ]
  },
  {
   "cell_type": "code",
   "execution_count": 58,
   "metadata": {},
   "outputs": [
    {
     "data": {
      "image/png": "[encoded data removed]",
      "text/plain": [
       "<Figure size 576x288 with 1 Axes>"
      ]
     },
     "metadata": {
      "needs_background": "light"
     },
     "output_type": "display_data"
    }
   ],
   "source": [
    "plt.figure(figsize=(8, 4))\n",
    "sns.distplot(df.toPandas()[\"Age\"], bins=10, label='Age')\n",
    "plt.legend()\n",
    "plt.show()"
   ]
  },
  {
   "cell_type": "code",
   "execution_count": 28,
   "metadata": {},
   "outputs": [
    {
     "data": {
      "text/plain": [
       "['Timestamp',\n",
       " 'Age',\n",
       " 'Gender',\n",
       " 'Country',\n",
       " 'state',\n",
       " 'self_employed',\n",
       " 'family_history',\n",
       " 'treatment',\n",
       " 'work_interfere',\n",
       " 'no_employees',\n",
       " 'remote_work',\n",
       " 'tech_company',\n",
       " 'benefits',\n",
       " 'care_options',\n",
       " 'wellness_program',\n",
       " 'seek_help',\n",
       " 'anonymity',\n",
       " 'leave',\n",
       " 'mental_health_consequence',\n",
       " 'phys_health_consequence',\n",
       " 'coworkers',\n",
       " 'supervisor',\n",
       " 'mental_health_interview',\n",
       " 'phys_health_interview',\n",
       " 'mental_vs_physical',\n",
       " 'obs_consequence',\n",
       " 'comments']"
      ]
     },
     "execution_count": 28,
     "metadata": {},
     "output_type": "execute_result"
    }
   ],
   "source": [
    "cols = df.schema.names\n",
    "cols"
   ]
  },
  {
   "cell_type": "code",
   "execution_count": 39,
   "metadata": {},
   "outputs": [
    {
     "name": "stdout",
     "output_type": "stream",
     "text": [
      "+-------+-------------------+\n",
      "|summary|          Timestamp|\n",
      "+-------+-------------------+\n",
      "|  count|               1259|\n",
      "|   mean|               null|\n",
      "| stddev|               null|\n",
      "|    min|2014-08-27 11:29:31|\n",
      "|    max|2016-02-01 23:04:31|\n",
      "+-------+-------------------+\n",
      "\n",
      "+-------+--------------------+\n",
      "|summary|                 Age|\n",
      "+-------+--------------------+\n",
      "|  count|                1259|\n",
      "|   mean| 7.942814831135821E7|\n",
      "| stddev|2.8182994429819684E9|\n",
      "|    min|             -1726.0|\n",
      "|    max|     9.9999999999E10|\n",
      "+-------+--------------------+\n",
      "\n",
      "+-------+------------------+\n",
      "|summary|            Gender|\n",
      "+-------+------------------+\n",
      "|  count|              1259|\n",
      "|   mean|              null|\n",
      "| stddev|              null|\n",
      "|    min|A little about you|\n",
      "|    max|             woman|\n",
      "+-------+------------------+\n",
      "\n",
      "+-------+---------+\n",
      "|summary|  Country|\n",
      "+-------+---------+\n",
      "|  count|     1259|\n",
      "|   mean|     null|\n",
      "| stddev|     null|\n",
      "|    min|Australia|\n",
      "|    max| Zimbabwe|\n",
      "+-------+---------+\n",
      "\n",
      "+-------+-----+\n",
      "|summary|state|\n",
      "+-------+-----+\n",
      "|  count| 1259|\n",
      "|   mean| null|\n",
      "| stddev| null|\n",
      "|    min|   AL|\n",
      "|    max|   WY|\n",
      "+-------+-----+\n",
      "\n",
      "+-------+-------------+\n",
      "|summary|self_employed|\n",
      "+-------+-------------+\n",
      "|  count|         1259|\n",
      "|   mean|         null|\n",
      "| stddev|         null|\n",
      "|    min|           NA|\n",
      "|    max|          Yes|\n",
      "+-------+-------------+\n",
      "\n",
      "+-------+--------------+\n",
      "|summary|family_history|\n",
      "+-------+--------------+\n",
      "|  count|          1259|\n",
      "|   mean|          null|\n",
      "| stddev|          null|\n",
      "|    min|            No|\n",
      "|    max|           Yes|\n",
      "+-------+--------------+\n",
      "\n",
      "+-------+---------+\n",
      "|summary|treatment|\n",
      "+-------+---------+\n",
      "|  count|     1259|\n",
      "|   mean|     null|\n",
      "| stddev|     null|\n",
      "|    min|       No|\n",
      "|    max|      Yes|\n",
      "+-------+---------+\n",
      "\n",
      "+-------+--------------+\n",
      "|summary|work_interfere|\n",
      "+-------+--------------+\n",
      "|  count|          1259|\n",
      "|   mean|          null|\n",
      "| stddev|          null|\n",
      "|    min|            NA|\n",
      "|    max|     Sometimes|\n",
      "+-------+--------------+\n",
      "\n",
      "+-------+--------------+\n",
      "|summary|  no_employees|\n",
      "+-------+--------------+\n",
      "|  count|          1259|\n",
      "|   mean|          null|\n",
      "| stddev|          null|\n",
      "|    min|           1-5|\n",
      "|    max|More than 1000|\n",
      "+-------+--------------+\n",
      "\n",
      "+-------+-----------+\n",
      "|summary|remote_work|\n",
      "+-------+-----------+\n",
      "|  count|       1259|\n",
      "|   mean|       null|\n",
      "| stddev|       null|\n",
      "|    min|         No|\n",
      "|    max|        Yes|\n",
      "+-------+-----------+\n",
      "\n",
      "+-------+------------+\n",
      "|summary|tech_company|\n",
      "+-------+------------+\n",
      "|  count|        1259|\n",
      "|   mean|        null|\n",
      "| stddev|        null|\n",
      "|    min|          No|\n",
      "|    max|         Yes|\n",
      "+-------+------------+\n",
      "\n",
      "+-------+----------+\n",
      "|summary|  benefits|\n",
      "+-------+----------+\n",
      "|  count|      1259|\n",
      "|   mean|      null|\n",
      "| stddev|      null|\n",
      "|    min|Don't know|\n",
      "|    max|       Yes|\n",
      "+-------+----------+\n",
      "\n",
      "+-------+------------+\n",
      "|summary|care_options|\n",
      "+-------+------------+\n",
      "|  count|        1259|\n",
      "|   mean|        null|\n",
      "| stddev|        null|\n",
      "|    min|          No|\n",
      "|    max|         Yes|\n",
      "+-------+------------+\n",
      "\n",
      "+-------+----------------+\n",
      "|summary|wellness_program|\n",
      "+-------+----------------+\n",
      "|  count|            1259|\n",
      "|   mean|            null|\n",
      "| stddev|            null|\n",
      "|    min|      Don't know|\n",
      "|    max|             Yes|\n",
      "+-------+----------------+\n",
      "\n",
      "+-------+----------+\n",
      "|summary| seek_help|\n",
      "+-------+----------+\n",
      "|  count|      1259|\n",
      "|   mean|      null|\n",
      "| stddev|      null|\n",
      "|    min|Don't know|\n",
      "|    max|       Yes|\n",
      "+-------+----------+\n",
      "\n",
      "+-------+----------+\n",
      "|summary| anonymity|\n",
      "+-------+----------+\n",
      "|  count|      1259|\n",
      "|   mean|      null|\n",
      "| stddev|      null|\n",
      "|    min|Don't know|\n",
      "|    max|       Yes|\n",
      "+-------+----------+\n",
      "\n",
      "+-------+----------+\n",
      "|summary|     leave|\n",
      "+-------+----------+\n",
      "|  count|      1259|\n",
      "|   mean|      null|\n",
      "| stddev|      null|\n",
      "|    min|Don't know|\n",
      "|    max| Very easy|\n",
      "+-------+----------+\n",
      "\n",
      "+-------+-------------------------+\n",
      "|summary|mental_health_consequence|\n",
      "+-------+-------------------------+\n",
      "|  count|                     1259|\n",
      "|   mean|                     null|\n",
      "| stddev|                     null|\n",
      "|    min|                    Maybe|\n",
      "|    max|                      Yes|\n",
      "+-------+-------------------------+\n",
      "\n",
      "+-------+-----------------------+\n",
      "|summary|phys_health_consequence|\n",
      "+-------+-----------------------+\n",
      "|  count|                   1259|\n",
      "|   mean|                   null|\n",
      "| stddev|                   null|\n",
      "|    min|                  Maybe|\n",
      "|    max|                    Yes|\n",
      "+-------+-----------------------+\n",
      "\n",
      "+-------+---------+\n",
      "|summary|coworkers|\n",
      "+-------+---------+\n",
      "|  count|     1259|\n",
      "|   mean|     null|\n",
      "| stddev|     null|\n",
      "|    min|       No|\n",
      "|    max|      Yes|\n",
      "+-------+---------+\n",
      "\n",
      "+-------+----------+\n",
      "|summary|supervisor|\n",
      "+-------+----------+\n",
      "|  count|      1259|\n",
      "|   mean|      null|\n",
      "| stddev|      null|\n",
      "|    min|        No|\n",
      "|    max|       Yes|\n",
      "+-------+----------+\n",
      "\n",
      "+-------+-----------------------+\n",
      "|summary|mental_health_interview|\n",
      "+-------+-----------------------+\n",
      "|  count|                   1259|\n",
      "|   mean|                   null|\n",
      "| stddev|                   null|\n",
      "|    min|                  Maybe|\n",
      "|    max|                    Yes|\n",
      "+-------+-----------------------+\n",
      "\n",
      "+-------+---------------------+\n",
      "|summary|phys_health_interview|\n",
      "+-------+---------------------+\n",
      "|  count|                 1259|\n",
      "|   mean|                 null|\n",
      "| stddev|                 null|\n",
      "|    min|                Maybe|\n",
      "|    max|                  Yes|\n",
      "+-------+---------------------+\n",
      "\n",
      "+-------+------------------+\n",
      "|summary|mental_vs_physical|\n",
      "+-------+------------------+\n",
      "|  count|              1259|\n",
      "|   mean|              null|\n",
      "| stddev|              null|\n",
      "|    min|        Don't know|\n",
      "|    max|               Yes|\n",
      "+-------+------------------+\n",
      "\n",
      "+-------+---------------+\n",
      "|summary|obs_consequence|\n",
      "+-------+---------------+\n",
      "|  count|           1259|\n",
      "|   mean|           null|\n",
      "| stddev|           null|\n",
      "|    min|             No|\n",
      "|    max|            Yes|\n",
      "+-------+---------------+\n",
      "\n",
      "+-------+--------------------+\n",
      "|summary|            comments|\n",
      "+-------+--------------------+\n",
      "|  count|                1259|\n",
      "|   mean|                null|\n",
      "| stddev|                null|\n",
      "|    min|                    |\n",
      "|    max|you rock for doin...|\n",
      "+-------+--------------------+\n",
      "\n"
     ]
    }
   ],
   "source": [
    "for c in cols:\n",
    "    df.select(c).describe().show()"
   ]
  },
  {
   "cell_type": "code",
   "execution_count": 43,
   "metadata": {},
   "outputs": [
    {
     "name": "stdout",
     "output_type": "stream",
     "text": [
      "+-------+\n",
      "|    Age|\n",
      "+-------+\n",
      "|    8.0|\n",
      "|  329.0|\n",
      "|  -29.0|\n",
      "|   49.0|\n",
      "|   -1.0|\n",
      "|   29.0|\n",
      "|   47.0|\n",
      "|-1726.0|\n",
      "|   42.0|\n",
      "|   44.0|\n",
      "|   35.0|\n",
      "|   62.0|\n",
      "|   18.0|\n",
      "|   39.0|\n",
      "|   37.0|\n",
      "|   34.0|\n",
      "|   25.0|\n",
      "|   36.0|\n",
      "|   41.0|\n",
      "|   23.0|\n",
      "+-------+\n",
      "only showing top 20 rows\n",
      "\n"
     ]
    }
   ],
   "source": [
    "df.select(\"Age\").distinct().show()"
   ]
  },
  {
   "cell_type": "code",
   "execution_count": 44,
   "metadata": {},
   "outputs": [
    {
     "name": "stdout",
     "output_type": "stream",
     "text": [
      "+-------+-----+\n",
      "|    Age|count|\n",
      "+-------+-----+\n",
      "|    8.0|    1|\n",
      "|  329.0|    1|\n",
      "|  -29.0|    1|\n",
      "|   49.0|    4|\n",
      "|   -1.0|    1|\n",
      "|   29.0|   85|\n",
      "|   47.0|    2|\n",
      "|-1726.0|    1|\n",
      "|   42.0|   20|\n",
      "|   44.0|   11|\n",
      "|   35.0|   55|\n",
      "|   62.0|    1|\n",
      "|   18.0|    7|\n",
      "|   39.0|   33|\n",
      "|   37.0|   43|\n",
      "|   34.0|   65|\n",
      "|   25.0|   61|\n",
      "|   36.0|   37|\n",
      "|   41.0|   21|\n",
      "|   23.0|   51|\n",
      "+-------+-----+\n",
      "only showing top 20 rows\n",
      "\n"
     ]
    }
   ],
   "source": [
    "df.groupby(df[\"Age\"]).count().show()"
   ]
  },
  {
   "cell_type": "code",
   "execution_count": 46,
   "metadata": {},
   "outputs": [
    {
     "name": "stdout",
     "output_type": "stream",
     "text": [
      "+------------+-----+\n",
      "|      Gender|count|\n",
      "+------------+-----+\n",
      "|  non-binary|    1|\n",
      "|        Make|    4|\n",
      "|           F|   38|\n",
      "| Genderqueer|    1|\n",
      "|         Man|    2|\n",
      "|  Male (CIS)|    1|\n",
      "|           m|   34|\n",
      "|     Female |    2|\n",
      "|     Agender|    1|\n",
      "|         Mal|    1|\n",
      "|           f|   15|\n",
      "|       maile|    1|\n",
      "|Trans-female|    1|\n",
      "|         Nah|    1|\n",
      "|  Cis Female|    1|\n",
      "|       woman|    1|\n",
      "|      Female|  121|\n",
      "|     Cis Man|    1|\n",
      "|      female|   62|\n",
      "|           M|  116|\n",
      "+------------+-----+\n",
      "only showing top 20 rows\n",
      "\n"
     ]
    }
   ],
   "source": [
    "df.groupby(df['Gender']).count().show()"
   ]
  },
  {
   "cell_type": "code",
   "execution_count": 61,
   "metadata": {},
   "outputs": [
    {
     "data": {
      "image/png": "[encoded data removed]",
      "text/plain": [
       "<Figure size 576x1296 with 1 Axes>"
      ]
     },
     "metadata": {
      "needs_background": "light"
     },
     "output_type": "display_data"
    }
   ],
   "source": [
    "temp = df.toPandas()\n",
    "plt.figure(figsize=(8, 18))\n",
    "sns.countplot(y = temp['Country'])\n",
    "plt.show()\n"
   ]
  },
  {
   "cell_type": "code",
   "execution_count": 49,
   "metadata": {},
   "outputs": [],
   "source": [
    "#df.where(df['Country']=='United States').crosstab('Age','Gender').show()"
   ]
  },
  {
   "cell_type": "code",
   "execution_count": 66,
   "metadata": {},
   "outputs": [
    {
     "name": "stdout",
     "output_type": "stream",
     "text": [
      "Collecting plotly\n",
      "\u001b[?25l  Downloading https://files.pythonhosted.org/packages/e3/67/eb2b2be7a63a66548abea92447fc04d9abf363520f1af6145c5f033cd1b3/plotly-4.3.0-py2.py3-none-any.whl (7.3MB)\n",
      "\u001b[K    100% |████████████████████████████████| 7.3MB 2.3MB/s eta 0:00:01\n",
      "\u001b[?25hRequirement already satisfied: six in /opt/conda/lib/python3.6/site-packages (from plotly) (1.12.0)\n",
      "Collecting retrying>=1.3.3 (from plotly)\n",
      "  Downloading https://files.pythonhosted.org/packages/44/ef/beae4b4ef80902f22e3af073397f079c96969c69b2c7d52a57ea9ae61c9d/retrying-1.3.3.tar.gz\n",
      "Building wheels for collected packages: retrying\n",
      "  Running setup.py bdist_wheel for retrying ... \u001b[?25ldone\n",
      "\u001b[?25h  Stored in directory: /home/jovyan/.cache/pip/wheels/d7/a9/33/acc7b709e2a35caa7d4cae442f6fe6fbf2c43f80823d46460c\n",
      "Successfully built retrying\n",
      "Installing collected packages: retrying, plotly\n",
      "Successfully installed plotly-4.3.0 retrying-1.3.3\n"
     ]
    }
   ],
   "source": [
    "!pip install plotly"
   ]
  },
  {
   "cell_type": "code",
   "execution_count": 69,
   "metadata": {},
   "outputs": [
    {
     "data": {
      "text/plain": [
       "'4.3.0'"
      ]
     },
     "execution_count": 69,
     "metadata": {},
     "output_type": "execute_result"
    }
   ],
   "source": [
    "import plotly as py\n",
    "py.__version__"
   ]
  },
  {
   "cell_type": "code",
   "execution_count": 72,
   "metadata": {},
   "outputs": [],
   "source": [
    "import plotly.graph_objects as go\n",
    "\n",
    "\n",
    "\n"
   ]
  },
  {
   "cell_type": "markdown",
   "metadata": {},
   "source": [
    "# to do"
   ]
  },
  {
   "cell_type": "code",
   "execution_count": null,
   "metadata": {},
   "outputs": [],
   "source": [
    "for each traitement en parallélisé en map execute sans reduce"
   ]
  },
  {
   "cell_type": "code",
   "execution_count": null,
   "metadata": {},
   "outputs": [],
   "source": [
    "map, write file, registeredtemptable"
   ]
  },
  {
   "cell_type": "code",
   "execution_count": 64,
   "metadata": {},
   "outputs": [
    {
     "data": {
      "text/plain": [
       "'0.9.0'"
      ]
     },
     "execution_count": 64,
     "metadata": {},
     "output_type": "execute_result"
    }
   ],
   "source": [
    "sns.__version__"
   ]
  },
  {
   "cell_type": "code",
   "execution_count": 54,
   "metadata": {},
   "outputs": [
    {
     "data": {
      "text/html": [
       "<div>\n",
       "<style scoped>\n",
       "    .dataframe tbody tr th:only-of-type {\n",
       "        vertical-align: middle;\n",
       "    }\n",
       "\n",
       "    .dataframe tbody tr th {\n",
       "        vertical-align: top;\n",
       "    }\n",
       "\n",
       "    .dataframe thead th {\n",
       "        text-align: right;\n",
       "    }\n",
       "</style>\n",
       "<table border=\"1\" class=\"dataframe\">\n",
       "  <thead>\n",
       "    <tr style=\"text-align: right;\">\n",
       "      <th></th>\n",
       "      <th>col1</th>\n",
       "      <th>col2</th>\n",
       "    </tr>\n",
       "  </thead>\n",
       "  <tbody>\n",
       "    <tr>\n",
       "      <th>0</th>\n",
       "      <td>1</td>\n",
       "      <td>3</td>\n",
       "    </tr>\n",
       "    <tr>\n",
       "      <th>1</th>\n",
       "      <td>2</td>\n",
       "      <td>4</td>\n",
       "    </tr>\n",
       "  </tbody>\n",
       "</table>\n",
       "</div>"
      ],
      "text/plain": [
       "   col1  col2\n",
       "0     1     3\n",
       "1     2     4"
      ]
     },
     "execution_count": 54,
     "metadata": {},
     "output_type": "execute_result"
    }
   ],
   "source": [
    "test = {'col1': [1, 2], 'col2': [3, 4]}\n",
    "test = pd.DataFrame(data=test)\n",
    "test"
   ]
  },
  {
   "cell_type": "code",
   "execution_count": 55,
   "metadata": {},
   "outputs": [
    {
     "data": {
      "text/plain": [
       "<matplotlib.axes._subplots.AxesSubplot at 0x7fdb18566160>"
      ]
     },
     "execution_count": 55,
     "metadata": {},
     "output_type": "execute_result"
    },
    {
     "data": {
      "image/png": "[encoded data removed]",
      "text/plain": [
       "<Figure size 432x288 with 1 Axes>"
      ]
     },
     "metadata": {
      "needs_background": "light"
     },
     "output_type": "display_data"
    }
   ],
   "source": [
    "sns.countplot(test.col1)"
   ]
  }
 ],
 "metadata": {
  "kernelspec": {
   "display_name": "Python 3",
   "language": "python",
   "name": "python3"
  },
  "language_info": {
   "codemirror_mode": {
    "name": "ipython",
    "version": 3
   },
   "file_extension": ".py",
   "mimetype": "text/x-python",
   "name": "python",
   "nbconvert_exporter": "python",
   "pygments_lexer": "ipython3",
   "version": "3.6.7"
  }
 },
 "nbformat": 4,
 "nbformat_minor": 2
}
